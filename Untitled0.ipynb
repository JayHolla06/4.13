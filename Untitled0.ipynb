{
  "nbformat": 4,
  "nbformat_minor": 0,
  "metadata": {
    "colab": {
      "provenance": [],
      "authorship_tag": "ABX9TyMjP/5Un7mZjfMDtNhmOQrm",
      "include_colab_link": true
    },
    "kernelspec": {
      "name": "python3",
      "display_name": "Python 3"
    },
    "language_info": {
      "name": "python"
    }
  },
  "cells": [
    {
      "cell_type": "markdown",
      "metadata": {
        "id": "view-in-github",
        "colab_type": "text"
      },
      "source": [
        "<a href=\"https://colab.research.google.com/github/JayHolla06/4.13/blob/main/Untitled0.ipynb\" target=\"_parent\"><img src=\"https://colab.research.google.com/assets/colab-badge.svg\" alt=\"Open In Colab\"/></a>"
      ]
    },
    {
      "cell_type": "code",
      "execution_count": 1,
      "metadata": {
        "colab": {
          "base_uri": "https://localhost:8080/"
        },
        "id": "8ZBM-XGpJLp2",
        "outputId": "8653806a-3188-438b-b088-164a82fb7c61"
      },
      "outputs": [
        {
          "output_type": "stream",
          "name": "stdout",
          "text": [
            "Pasta Palace\n",
            "Italian\n",
            "Pasta Palace serves Italian cuisine.\n",
            "Pasta Palace is now open!\n"
          ]
        }
      ],
      "source": [
        "class Restaurant:\n",
        "    \"\"\"A simple representation of a restaurant.\"\"\"\n",
        "\n",
        "    def __init__(self, restaurant_name, cuisine_type):\n",
        "        \"\"\"Initialize name and cuisine type attributes.\"\"\"\n",
        "        self.restaurant_name = restaurant_name\n",
        "        self.cuisine_type = cuisine_type\n",
        "\n",
        "    def describe_restaurant(self):\n",
        "        \"\"\"Prints restaurant details.\"\"\"\n",
        "        print(f\"{self.restaurant_name} serves {self.cuisine_type} cuisine.\")\n",
        "\n",
        "    def open_restaurant(self):\n",
        "        \"\"\"Indicates the restaurant is open.\"\"\"\n",
        "        print(f\"{self.restaurant_name} is now open!\")\n",
        "\n",
        "# Creating an instance and calling methods\n",
        "restaurant = Restaurant(\"Pasta Palace\", \"Italian\")\n",
        "print(restaurant.restaurant_name)\n",
        "print(restaurant.cuisine_type)\n",
        "restaurant.describe_restaurant()\n",
        "restaurant.open_restaurant()"
      ]
    }
  ]
}