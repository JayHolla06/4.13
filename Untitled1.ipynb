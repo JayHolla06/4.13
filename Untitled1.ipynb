{
  "nbformat": 4,
  "nbformat_minor": 0,
  "metadata": {
    "colab": {
      "provenance": [],
      "authorship_tag": "ABX9TyNHW+gIghSbImmdK8kHdEy6",
      "include_colab_link": true
    },
    "kernelspec": {
      "name": "python3",
      "display_name": "Python 3"
    },
    "language_info": {
      "name": "python"
    }
  },
  "cells": [
    {
      "cell_type": "markdown",
      "metadata": {
        "id": "view-in-github",
        "colab_type": "text"
      },
      "source": [
        "<a href=\"https://colab.research.google.com/github/JayHolla06/4.13/blob/main/Untitled1.ipynb\" target=\"_parent\"><img src=\"https://colab.research.google.com/assets/colab-badge.svg\" alt=\"Open In Colab\"/></a>"
      ]
    },
    {
      "cell_type": "code",
      "source": [
        "import random\n",
        "\n",
        "def choose_word():\n",
        "    words = ['python', 'hangman', 'programming', 'developer', 'computer']\n",
        "    return random.choice(words)\n",
        "\n",
        "def display_word(word, guessed_letters):\n",
        "    displayed = ''.join([letter if letter in guessed_letters else '_' for letter in word])\n",
        "    return displayed\n",
        "\n",
        "def hangman():\n",
        "    print(\"Welcome to Hangman!\")\n",
        "    word = choose_word()\n",
        "    guessed_letters = set()\n",
        "    tries = 6  # Number of incorrect guesses allowed\n",
        "\n",
        "    while tries > 0:\n",
        "        print(f\"\\nWord: {display_word(word, guessed_letters)}\")\n",
        "        print(f\"Tries left: {tries}\")\n",
        "        print(f\"Guessed letters: {', '.join(sorted(guessed_letters))}\")\n",
        "\n",
        "        guess = input(\"Guess a letter: \").lower()\n",
        "\n",
        "        if len(guess) != 1 or not guess.isalpha():\n",
        "            print(\"Please enter a valid single letter.\")\n",
        "            continue\n",
        "\n",
        "        if guess in guessed_letters:\n",
        "            print(\"You already guessed that letter.\")\n",
        "            continue\n",
        "\n",
        "        guessed_letters.add(guess)\n",
        "\n",
        "        if guess not in word:\n",
        "            tries -= 1\n",
        "            print(f\"Wrong guess! '{guess}' is not in the word.\")\n",
        "\n",
        "        if all(letter in guessed_letters for letter in word):\n",
        "            print(f\"\\nCongratulations! You guessed the word: {word}\")\n",
        "            break\n",
        "    else:\n",
        "        print(f\"\\nGame over! The word was: {word}\")\n",
        "\n",
        "if __name__ == \"__main__\":\n",
        "    hangman()"
      ],
      "metadata": {
        "id": "K6vmqn2Clqhw"
      },
      "execution_count": null,
      "outputs": []
    }
  ]
}