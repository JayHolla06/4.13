{
  "cells": [
    {
      "cell_type": "markdown",
      "metadata": {
        "id": "view-in-github",
        "colab_type": "text"
      },
      "source": [
        "<a href=\"https://colab.research.google.com/github/JayHolla06/4.13/blob/main/Welcome_To_Colab.ipynb\" target=\"_parent\"><img src=\"https://colab.research.google.com/assets/colab-badge.svg\" alt=\"Open In Colab\"/></a>"
      ]
    },
    {
      "cell_type": "code",
      "source": [
        "# 5-8. Hello Admin\n",
        "usernames = ['admin', 'jayden', 'maria', 'leo', 'sara']\n",
        "\n",
        "for user in usernames:\n",
        "    if user == 'admin':\n",
        "        print(\"Hello admin, would you like to see a status report?\")\n",
        "    else:\n",
        "        print(f\"Hello {user.title()}, thank you for logging in again.\")\n",
        "\n",
        "print(\"\\n\")"
      ],
      "metadata": {
        "colab": {
          "base_uri": "https://localhost:8080/"
        },
        "id": "cesnkC1qqDQq",
        "outputId": "016225e9-370a-4379-986c-d77bb337d04f"
      },
      "execution_count": 1,
      "outputs": [
        {
          "output_type": "stream",
          "name": "stdout",
          "text": [
            "Hello admin, would you like to see a status report?\n",
            "Hello Jayden, thank you for logging in again.\n",
            "Hello Davis, thank you for logging in again.\n",
            "Hello Alex, thank you for logging in again.\n",
            "Hello Bill, thank you for logging in again.\n",
            "\n",
            "\n"
          ]
        }
      ]
    }
  ],
  "metadata": {
    "colab": {
      "name": "Welcome To Colab",
      "toc_visible": true,
      "provenance": [],
      "include_colab_link": true
    },
    "kernelspec": {
      "display_name": "Python 3",
      "name": "python3"
    }
  },
  "nbformat": 4,
  "nbformat_minor": 0
}