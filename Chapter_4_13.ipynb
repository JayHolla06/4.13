{
  "nbformat": 4,
  "nbformat_minor": 0,
  "metadata": {
    "colab": {
      "provenance": [],
      "authorship_tag": "ABX9TyODgBLOwi0uMoiZKIFJPXmo",
      "include_colab_link": true
    },
    "kernelspec": {
      "name": "python3",
      "display_name": "Python 3"
    },
    "language_info": {
      "name": "python"
    }
  },
  "cells": [
    {
      "cell_type": "markdown",
      "metadata": {
        "id": "view-in-github",
        "colab_type": "text"
      },
      "source": [
        "<a href=\"https://colab.research.google.com/github/JayHolla06/4.13/blob/main/Chapter_4_13.ipynb\" target=\"_parent\"><img src=\"https://colab.research.google.com/assets/colab-badge.svg\" alt=\"Open In Colab\"/></a>"
      ]
    },
    {
      "cell_type": "code",
      "source": [
        "# Exercise 6-8: Pets\n",
        "pets = [\n",
        "    {\"name\": \"Buddy\", \"animal\": \"dog\", \"owner\": \"Alice\"},\n",
        "    {\"name\": \"Whiskers\", \"animal\": \"cat\", \"owner\": \"Bob\"},\n",
        "    {\"name\": \"Goldie\", \"animal\": \"fish\", \"owner\": \"Charlie\"}\n",
        "]\n",
        "\n",
        "for pet in pets:\n",
        "    print(f\"Pet Name: {pet['name']}, Animal: {pet['animal']}, Owner: {pet['owner']}\")"
      ],
      "metadata": {
        "colab": {
          "base_uri": "https://localhost:8080/"
        },
        "id": "WPOU-jjgjaUC",
        "outputId": "5283c155-114b-42de-c577-4de550dcd04d"
      },
      "execution_count": 2,
      "outputs": [
        {
          "output_type": "stream",
          "name": "stdout",
          "text": [
            "Pet Name: Buddy, Animal: dog, Owner: Alice\n",
            "Pet Name: Whiskers, Animal: cat, Owner: Bob\n",
            "Pet Name: Goldie, Animal: fish, Owner: Charlie\n"
          ]
        }
      ]
    }
  ]
}