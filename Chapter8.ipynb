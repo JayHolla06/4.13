{
  "cells": [
    {
      "cell_type": "markdown",
      "metadata": {
        "id": "view-in-github",
        "colab_type": "text"
      },
      "source": [
        "<a href=\"https://colab.research.google.com/github/JayHolla06/4.13/blob/main/Chapter8.ipynb\" target=\"_parent\"><img src=\"https://colab.research.google.com/assets/colab-badge.svg\" alt=\"Open In Colab\"/></a>"
      ]
    },
    {
      "cell_type": "code",
      "source": [
        "def city_country(city, country):\n",
        "    \"\"\"Return a formatted city-country string.\"\"\"\n",
        "    return f'\"{city.title()}, {country.title()}\"'\n",
        "\n",
        "# Calling the function with at least three city-country pairs\n",
        "print(city_country(\"santiago\", \"chile\"))\n",
        "print(city_country(\"new york\", \"usa\"))\n",
        "print(city_country(\"paris\", \"france\"))\n"
      ],
      "metadata": {
        "id": "LsE0IIZgG2Kg",
        "outputId": "fadbaf99-7614-428f-f963-74d200e81108",
        "colab": {
          "base_uri": "https://localhost:8080/"
        }
      },
      "execution_count": 1,
      "outputs": [
        {
          "output_type": "stream",
          "name": "stdout",
          "text": [
            "\"Santiago, Chile\"\n",
            "\"New York, Usa\"\n",
            "\"Paris, France\"\n"
          ]
        }
      ]
    },
    {
      "cell_type": "markdown",
      "source": [
        "# New Section"
      ],
      "metadata": {
        "id": "mRQ5qazIHChq"
      }
    },
    {
      "cell_type": "code",
      "source": [
        "def city_country(city, country):\n",
        "    \"\"\"Return a formatted city-country string.\"\"\"\n",
        "    return f'\"{city.title()}, {country.title()}\"'\n",
        "\n",
        "# Calling the function with at least three city-country pairs\n",
        "print(city_country(\"santiago\", \"chile\"))\n",
        "print(city_country(\"new york\", \"usa\"))\n",
        "print(city_country(\"paris\", \"france\"))\n"
      ],
      "metadata": {
        "id": "bicddyy0HD5c"
      },
      "execution_count": null,
      "outputs": []
    }
  ],
  "metadata": {
    "colab": {
      "name": "Welcome To Colab",
      "toc_visible": true,
      "provenance": [],
      "include_colab_link": true
    },
    "kernelspec": {
      "display_name": "Python 3",
      "name": "python3"
    }
  },
  "nbformat": 4,
  "nbformat_minor": 0
}