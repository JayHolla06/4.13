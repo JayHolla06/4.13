{
  "nbformat": 4,
  "nbformat_minor": 0,
  "metadata": {
    "colab": {
      "provenance": [],
      "toc_visible": true,
      "authorship_tag": "ABX9TyO1tHm7H0XpzGAxchDiOWwX",
      "include_colab_link": true
    },
    "kernelspec": {
      "name": "python3",
      "display_name": "Python 3"
    },
    "language_info": {
      "name": "python"
    }
  },
  "cells": [
    {
      "cell_type": "markdown",
      "metadata": {
        "id": "view-in-github",
        "colab_type": "text"
      },
      "source": [
        "<a href=\"https://colab.research.google.com/github/JayHolla06/4.13/blob/main/Chapter6.ipynb\" target=\"_parent\"><img src=\"https://colab.research.google.com/assets/colab-badge.svg\" alt=\"Open In Colab\"/></a>"
      ]
    },
    {
      "cell_type": "markdown",
      "source": [
        "# New Section"
      ],
      "metadata": {
        "id": "utlTykUlssdP"
      }
    },
    {
      "cell_type": "code",
      "source": [
        "# Exercise 6-8: Pets\n",
        "pets = [\n",
        "    {\"name\": \"Buddy\", \"animal\": \"dog\", \"owner\": \"Alice\"},\n",
        "    {\"name\": \"Whiskers\", \"animal\": \"cat\", \"owner\": \"Bob\"},\n",
        "    {\"name\": \"Goldie\", \"animal\": \"fish\", \"owner\": \"Charlie\"}\n",
        "]\n",
        "\n",
        "for pet in pets:\n",
        "    print(f\"Pet Name: {pet['name']}, Animal: {pet['animal']}, Owner: {pet['owner']}\")"
      ],
      "metadata": {
        "id": "pnQ9SDGfsuM2"
      },
      "execution_count": null,
      "outputs": []
    }
  ]
}